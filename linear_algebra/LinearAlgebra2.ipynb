{
 "cells": [
  {
   "cell_type": "markdown",
   "metadata": {},
   "source": [
    "## Operations in the Field $\\mathbb{R^n}$ ##\n",
    "\n",
    "As in any field, we can define the mathematical operations of the field $\\mathbb{R^n}$\n",
    "\n",
    "These operations are:\n",
    "  Addition\n",
    "  Multiplication\n",
    "\n",
    "We also need to define the **zero** and **one** element in the field.\n",
    "\n",
    "Zero element : $\\vec{x} = \\begin{bmatrix} 0\\\\ 0\\\\ 0\\\\ :\\\\ 0\\end{bmatrix}$\n",
    "\n",
    "One element : $\\vec{x} = \\begin{bmatrix} 1\\\\ 1\\\\ 1\\\\ :\\\\ 1\\end{bmatrix}$\n",
    "\n",
    "The above operations satisfy the field axioms:\n",
    "\n",
    "Associativity  \n",
    "Commutativity  \n",
    "Distributivity  \n",
    "Identity (defining zero addition and multiplication by one)  \n",
    "Inverse (defining Subtraction-Additive Inverse and Division-Multiplicative Inverse)  \n",
    "\n",
    "http://mathworld.wolfram.com/FieldAxioms.html\n",
    "\n"
   ]
  },
  {
   "cell_type": "markdown",
   "metadata": {},
   "source": [
    "### vector addition ###\n",
    "\n",
    "The mathematical definition of a vector addition in $\\mathbb{R^n}$ is to add the elements entry by entry.\n",
    "\n",
    "Lets look at the following example of two vectors:\n",
    "\n",
    "$\\vec{x}=\\begin{bmatrix} a_1 \\\\ a_2 \\\\ a_3 \\\\ : \\\\a_n \\end{bmatrix}\\in\\mathbb{R^n}$\n",
    " \n",
    "$\\vec{y}=\\begin{bmatrix} b_1 \\\\ b_2 \\\\ b_3 \\\\ : \\\\b_n \\end{bmatrix}\\in\\mathbb{R^n}$\n",
    " \n",
    "The result, $\\vec{x}+\\vec{y}$, will be in \\mathbb{R^n} as well.\n",
    "\n",
    "Mathematically:\n",
    "\n",
    "$\\vec{x}+\\vec{y}=\\begin{bmatrix} a_1+b_1 \\\\ a_2+b_2 \\\\ a_3+b_3 \\\\ : \\\\a_n+b_n \\end{bmatrix}\\in\\mathbb{R^n}$"
   ]
  },
  {
   "cell_type": "markdown",
   "metadata": {},
   "source": [
    "### scalar by vector multiplication ###\n",
    "\n",
    "A scalar by vector multiplication is also defined by multiplying the vector entry by entry.\n",
    "\n",
    "If\n",
    "\n",
    "$\\alpha\\in\\mathbb{R}$\n",
    "\n",
    "and\n",
    "\n",
    "$\\vec{x}=\\begin{bmatrix} a_1 \\\\ a_2 \\\\ a_3 \\\\ : \\\\a_n \\end{bmatrix}\\in\\mathbb{R^n}$\n",
    "\n",
    " \n",
    "then\n",
    "\n",
    "$\\vec{}y=\\alpha\\vec{x}=\\begin{bmatrix}\\alpha a_1 \\\\\\alpha a_2 \\\\ \\alpha a_3 \\\\ : \\\\\\alpha a_n \\end{bmatrix}\\in\\mathbb{R^n}$ \n",
    " \n",
    "(Notice that each element of the vector is multiplied by the same scalar alpha).\n",
    "\n",
    "Ask yourself, what happens graphically to the vector when multiplied by a scalar?\n",
    "\n",
    "Answer: it grows multiplicatively longer in the same direction."
   ]
  }
 ],
 "metadata": {
  "kernelspec": {
   "display_name": "Python [default]",
   "language": "python",
   "name": "python3"
  },
  "language_info": {
   "codemirror_mode": {
    "name": "ipython",
    "version": 3
   },
   "file_extension": ".py",
   "mimetype": "text/x-python",
   "name": "python",
   "nbconvert_exporter": "python",
   "pygments_lexer": "ipython3",
   "version": "3.6.6"
  }
 },
 "nbformat": 4,
 "nbformat_minor": 2
}
