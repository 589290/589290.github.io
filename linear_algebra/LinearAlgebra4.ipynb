{
 "cells": [
  {
   "cell_type": "markdown",
   "metadata": {},
   "source": [
    "# MATRIX #\n",
    "\n",
    "A Matrix is a two dimensional array that contains the same elements as the vector.\n",
    "\n",
    "A Matrix can have $m$ rows and $n$ columns.\n",
    "\n",
    "If a Matrix has $m$ rows and $n$ columns is it called an $m$ x $n$ matrix.\n",
    "\n",
    "Lets take a look at matrix $A$ in the equation below:\n",
    "\n",
    "$A=$\\begin{bmatrix} a_{11} &a_{12} &a_{13}&..& a_{1n} \\\\ a_{21} &a_{22} &a_{23}&..& a_{2n} \\\\a_{31} &a_{32} &a_{33}&..& a_{3n} \\\\ : \\\\a_{m1} &a_{m2} &a_{m3}&......& a_{mn} \\end{bmatrix}"
   ]
  },
  {
   "cell_type": "markdown",
   "metadata": {},
   "source": [
    "Each element $a_{ij}$ in the matrix displayed above is a numerical value displayed in row $i$ and column $j$.\n",
    "\n",
    "<img src=\"eq13.png\" width=300>\n",
    "\n",
    "Element $ij$ matrix $A$\n",
    "\n",
    "Our next step is to understand how to apply matrix arithmetic: to perform operations such as:\n",
    "  \n",
    "Matrix Addition  \n",
    "Scalar multiplication of a matrix  \n",
    "Matrix multiplication  \n",
    "  \n",
    "When performing any mathematical calculations on matrices, we need to make sure we are working with the appropriate dimensions. We also need to be very careful with the indices. Once we understand that, the rest becomes easier! Let's look at the details:"
   ]
  },
  {
   "cell_type": "markdown",
   "metadata": {},
   "source": [
    "## Matrix Addition ##\n",
    "\n",
    "To add one matrix to the other we need to:\n",
    "\n",
    "Verify that the matrices are of the same dimensions  \n",
    "Make sure we add elements in the correct corresponding index.  \n",
    "\n",
    "To put this into context, let's look at an example:\n",
    "\n",
    "We will focus on the random matrix we saw above:\n",
    "\n",
    "A=\\begin{bmatrix} a_{11} &a_{12} &a_{13}&..& a_{1n} \\\\ a_{21} &a_{22} &a_{23}&..& a_{2n} \\\\a_{31} &a_{32} &a_{33}&..& a_{3n} \\\\ : \\\\a_{m1} &a_{m2} &a_{m3}&......& a_{mn} \\end{bmatrix}\n",
    "\n",
    "The dimensions of matrix $A$ are $mxn$. This means that the matrix has $m$ rows and $n$ columns.\n",
    "\n",
    "Matrix $A$ can only be added to another matrix with $m$ rows and $n$ columns. For example, matrix $B$.\n",
    "\n",
    "B=\\begin{bmatrix} b_{11} &b_{12} &b_{13}&..& b_{1n} \\\\ b_{21} &b_{22} &b_{23}&..& b_{2n} \\\\b_{31} &b_{32} &b_{33}&..& b_{3n} \\\\ : \\\\b_{m1} &b_{m2} &b_{m3}&......& b_{mn} \\end{bmatrix}\n",
    "\n",
    "As long as the dimensions match, the addition is very simple:\n",
    "\n",
    "Simply add element $a_{ij}$ in $A$ to the corresponding element $b_{ij}$ in $B$.\n",
    "\n",
    "A+B=\\begin{bmatrix} a_{11} &a_{12} &a_{13}&..& a_{1n} \\\\ a_{21} &a_{22} &a_{23}&..& a_{2n} \\\\a_{31} &a_{32} &a_{33}&..& a_{3n} \\\\ : \\\\a_{m1} &a_{m2} &a_{m3}&......& a_{mn} \\end{bmatrix}+\\begin{bmatrix} b_{11} &b_{12} &b_{13}&..& b_{1n} \\\\ b_{21} &b_{22} &b_{23}&..& b_{2n} \\\\b_{31} &b_{32} &b_{33}&..& b_{3n} \\\\ : \\\\b_{m1} &b_{m2} &b_{m3}&......& b_{mn} \\end{bmatrix}\n",
    "\n",
    "A+B=\\begin{bmatrix} a_{11}+ b_{11} &a_{12}+ b_{12} &a_{13}+ b_{13}&..& a_{1n}+ b_{1n} \\\\ a_{21}+ b_{21} &a_{22} + b_{22}&a_{23}+ b_{23}&..& a_{2n}+ b_{2n} \\\\a_{31}+ b_{31} &a_{32}+ b_{32} &a_{33}+ b_{33}&..& a_{3n}+ b_{3n} \\\\ : \\\\a_{m1}+ b_{m1} &a_{m2}+ b_{m2} &a_{m3}+ b_{m3}&......& a_{mn}+ b_{mn} \\end{bmatrix}"
   ]
  },
  {
   "cell_type": "markdown",
   "metadata": {},
   "source": [
    "## Scalar Multiplication of Matrix ##\n",
    "\n",
    "To multiply a matrix by a scalar, we do not need to verify  \n",
    "Dimensions or  \n",
    "Indices  \n",
    "Simply multiply each element in the matrix by the scalar!\n",
    "\n",
    "For example:\n",
    "\n",
    "$\\alpha A=\\begin{bmatrix} \\alpha a_{11} &\\alpha a_{12} &\\alpha a_{13}&..& \\alpha a_{1n} \\\\ \\alpha a_{21} &\\alpha a_{22} &\\alpha a_{23}&..&\\alpha a_{2n} \\\\\\alpha a_{31} &\\alpha a_{32} &\\alpha a_{33}&..&\\alpha a_{3n} \\\\ : \\\\\\alpha a_{m1} &\\alpha a_{m2} &\\alpha a_{m3}&......&\\alpha a_{mn} \\end{bmatrix}$\n",
    "\n",
    "Notice that the equation $\\alpha A$ represents a linear combination of matrices and scalars."
   ]
  },
  {
   "cell_type": "markdown",
   "metadata": {},
   "source": [
    "## Multiplication of a Square Matrices ##\n",
    "\n",
    "When multiplying 2 matrices we need to consider the dimensions of each, as multiplication is not possible if the dimensions are not aligned appropriately.\n",
    "\n",
    "The easiest multiplication to consider is that of two square matrices of the same dimensions $nxn$.\n",
    "\n",
    "A square matrix is a matrix that has the same number of rows and columns.\n",
    "\n",
    "The matrix below is a square matrix of $mxm$. It has $m$ rows and $m$ columns.\n",
    "\n",
    "A=\\begin{bmatrix} a_{11} &a_{12} &a_{13}&..& a_{1m} \\\\ a_{21} &a_{22} &a_{23}&..& a_{2m} \\\\a_{31} &a_{32} &a_{33}&..& a_{3m} \\\\ : \\\\a_{m1} &a_{m2} &a_{m3}&......& a_{mm} \\end{bmatrix}\n",
    "\n",
    "Matrix $A$ above can be multiplied with other square matrices of the same dimension, $mxm$.\n",
    "\n",
    "The result will be a new square matrix of the same demotions.\n",
    "\n",
    "The easiest way to demonstrate the actual multiplication is with an example:\n",
    "\n",
    "Let $P$ and $Q$ be two square matrices of $3x3$.\n",
    "\n",
    "P=\\begin{bmatrix} p_{11} &p_{12} &p_{13} \\\\ p_{21} &p_{22} &p_{23} \\\\p_{31} &p_{32} &p_{33} \\end{bmatrix}\n",
    "\n",
    "Q=\\begin{bmatrix} q_{11} &q_{12} &q_{13} \\\\ q_{21} &q_{22} &q_{23} \\\\q_{31} &q_{32} &q_{33} \\end{bmatrix}\n",
    "\n",
    "To multiply $P$ by $Q$ we need to do the following:\n",
    "\n",
    "$PxQ= \\begin{bmatrix} p_{11}q_{11}+p_{12}q_{21}+p_{13}q_{31} &p_{11}q_{12}+p_{12}q_{22}+p_{13}q_{32} &p_{11}q_{13}+p_{12}q_{23}+p_{13}q_{33} \\\\ p_{21}q_{11}+p_{22}q_{21}+p_{23}q_{31} &p_{21}q_{12}+p_{22}q_{22}+p_{23}q_{32} &p_{21}q_{13}+p_{22}q_{23}+p_{23}q_{33} \\\\ p_{31}q_{11}+p_{32}q_{21}+p_{33}q_{31} &p_{31}q_{12}+p_{32}q_{22}+p_{33}q_{32} &p_{31}q_{13}+p_{32}q_{23}+p_{33}q_{33} \\end{bmatrix}$\n",
    "\n",
    "Notice the pattern of finding each element in the multiplication result.\n",
    "\n",
    "Each element $ij$ in $PxQ$ is a result of multiplying all elements in row $i$ of matrix $P$ with the corresponding $j$ elements in column $j$ of matrix $Q$.\n",
    "\n",
    "See the picture below for an illustration :\n",
    "\n",
    "<img src=\"eq14.png\" width=500>\n",
    "\n",
    "if $A$ is an $n × m$ matrix and $B$ is an $m × p$ matrix, their matrix product $AB$ is an $n × p$ matrix, in which the $m$ entries across a row of $A$ are multiplied with the m entries down a column of $B$ and summed to produce an entry of $AB$. When two linear transformations are represented by matrices, then the matrix product represents the composition of the two transformations.\n",
    "\n",
    "Notice that $A x B$ $\\neq$ $B x A$.\n",
    "\n",
    "Since $A x B$ $\\neq$ $B x A$ we say they there are not commutative. This is a very interesting observation, as multiplication of scalars is definitely commutative."
   ]
  },
  {
   "cell_type": "markdown",
   "metadata": {},
   "source": [
    "So far we only concentrated on square matrix multiplications. However, we are not limited to square matrices alone.\n",
    "\n",
    "Lets look again at our image that represents the multiplication $P x Q$:\n",
    "\n",
    "Remember, the order here does matter, as matrix multiplication is not commutative\n",
    "\n",
    "<img src=\"eq15.png\" width=500>\n",
    "\n",
    "If you look closely at the image that represents the multiplication of $P x Q$, you will see that the number columns in $P$ equals the number of rows in $Q$. (In the case of our example, it was $3$).\n",
    "\n",
    "How many rows do we have in matrix $P$? How many coulums do we have in matrix $Q$? That will deretmine the dimensions of the resulting multiplication.\n",
    "\n",
    "In other words, if $P$ is a matrix with dimensions $t x m$ and $Q$ is a matrix with dimensions $m x v$ then:\n",
    "\n",
    "$P x Q$ is possible as the dimensions match. ($P$ has $m$ columns and $Q$ has $m$ rows).  \n",
    "\n",
    "$P x Q$ will be a matrix of $t x v$. ($t$ rows and $v$ columns).  \n",
    "\n",
    "Lets look at an example:\n",
    "\n",
    "P=\\begin{bmatrix} p_{11} &p_{12} &p_{13} \\\\ p_{21} &p_{22} &p_{23} \\end{bmatrix}\n",
    "\n",
    "Q=\\begin{bmatrix} q_{11} &q_{12}&q_{13}&q_{14} \\\\ q_{21} &q_{22}&q_{23}&q_{24} \\\\q_{31} &q_{32}&q_{33}&q_{34} \\end{bmatrix}\n",
    "\n",
    "We would like to calculate $P x Q$.\n",
    "\n",
    "Our first step is to see if the calculation is possible. We will do that by looking at the dimensions of the matrices.\n",
    "\n",
    "Matrix $P$ has $3$ columns and matrix $Q$ has $3$ rows. Perfect! multiplication is possible.\n",
    "\n",
    "We expect to have a final result $P x Q$ with the dimensions $2 x 4$ ($2$ rows and $4$ columns).\n",
    "\n",
    "$P x Q = \\begin{bmatrix} p_{11}q_{11}+p_{12}q_{21}+p_{13}q_{31} &p_{11}q_{12}+p_{12}q_{22}+p_{13}q_{32} &p_{11}q_{13}+p_{12}q_{23}+p_{13}q_{33} &p_{11}q_{14}+p_{12}q_{24}+p_{13}q_{34} \\\\ p_{21}q_{11}+p_{22}q_{21}+p_{23}q_{31} &p_{21}q_{12}+p_{22}q_{22}+p_{23}q_{32} &p_{21}q_{13}+p_{22}q_{23}+p_{23}q_{33}&p_{21}q_{14}+p_{22}q_{24}+p_{23}q_{34} \\end{bmatrix}$"
   ]
  },
  {
   "cell_type": "markdown",
   "metadata": {},
   "source": [
    "video: https://www.youtube.com/watch?v=99jYIxBRDww"
   ]
  },
  {
   "cell_type": "markdown",
   "metadata": {},
   "source": [
    "video: https://www.youtube.com/watch?v=imtEd8M6__s"
   ]
  },
  {
   "cell_type": "markdown",
   "metadata": {},
   "source": [
    "video: https://www.youtube.com/watch?v=g_yTyRwMzXU"
   ]
  },
  {
   "cell_type": "code",
   "execution_count": null,
   "metadata": {},
   "outputs": [],
   "source": []
  }
 ],
 "metadata": {
  "kernelspec": {
   "display_name": "Python [default]",
   "language": "python",
   "name": "python3"
  },
  "language_info": {
   "codemirror_mode": {
    "name": "ipython",
    "version": 3
   },
   "file_extension": ".py",
   "mimetype": "text/x-python",
   "name": "python",
   "nbconvert_exporter": "python",
   "pygments_lexer": "ipython3",
   "version": "3.6.6"
  }
 },
 "nbformat": 4,
 "nbformat_minor": 2
}
