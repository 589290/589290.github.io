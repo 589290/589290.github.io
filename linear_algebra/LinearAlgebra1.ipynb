{
 "cells": [
  {
   "cell_type": "markdown",
   "metadata": {},
   "source": [
    "## Latex ##  \n",
    "  \n",
    "  \n",
    "https://www.authorea.com/users/77723/articles/110898-how-to-write-mathematical-equations-expressions-and-symbols-with-latex-a-cheatsheet  \n",
    "  \n",
    "http://www.personal.ceu.hu/tex/cookbook.html#inline"
   ]
  },
  {
   "cell_type": "markdown",
   "metadata": {},
   "source": [
    "What is a Vector? The plain explanation would be that a vector is an ordered list of numbers.\n",
    "\n",
    "$\\vec{v} = \\begin{bmatrix} 1\\\\ 1\\end{bmatrix}$\n",
    "\n",
    "$\\vec{v} = \\begin{bmatrix} 1\\\\ 1\\\\ 22\\\\ 33\\end{bmatrix}$\n",
    "\n",
    "$\\vec{v} = \\begin{bmatrix} 1\\ 2\\end{bmatrix}$\n",
    "\n",
    "------------------------------------"
   ]
  },
  {
   "cell_type": "markdown",
   "metadata": {},
   "source": [
    "$\\vec{v} = \\begin{bmatrix} 1\\ 2\\\\ 3\\ 4\\end{bmatrix}$\n",
    "\n",
    "v<sub>11</sub> = 1  \n",
    "v<sub>12</sub> = 2  \n",
    "v<sub>21</sub> = 3  \n",
    "v<sub>22</sub> = 4  \n",
    "  \n",
    "Each element in the vector, also called component or coordinate, is a number, denoted here by a<sub>i</sub>\n",
    "\n",
    "This specific vector has *n* elements and can be in the field of Real Numbers $\\mathbb{R^n}$\n",
    "\n",
    "A vector of *n* real elements defines an *n* dimensional vector and belongs to $\\mathbb{R^n}$\n",
    "\n",
    "\n",
    "$\\vec{x}$ ∈ $\\mathbb{R^n}$\n",
    "  \n",
    "-----------------------------------------------"
   ]
  },
  {
   "cell_type": "markdown",
   "metadata": {},
   "source": [
    "x<sub>2</sub> = 2  \n",
    "\n",
    "x_2=2  \n",
    "\n",
    "---------------\n",
    "\n",
    "m<sub>12</sub> = 5  \n",
    "\n",
    "m_{12}=5  \n",
    "  \n",
    "--------------\n",
    "  \n",
    "m<sub>21</sub> = 8\n",
    "  \n",
    "m_{21}=8"
   ]
  },
  {
   "cell_type": "markdown",
   "metadata": {},
   "source": [
    "---------------------\n",
    "\n",
    "https://www.youtube.com/watch?v=mWV_MpEjz9c\n",
    "\n",
    "---------------------"
   ]
  },
  {
   "cell_type": "markdown",
   "metadata": {},
   "source": [
    "### transpose ###\n",
    "\n",
    "A 90 degree vector tranformation\n",
    "\n",
    "\n",
    "$\\begin{bmatrix} a_1\\\\ a_2\\\\ a_3\\\\ ..\\\\ a_n\\end{bmatrix}^T$ = $\\begin{bmatrix} a_1\\ a_2\\ a_3\\ ..\\ a_n\\end{bmatrix}$\n",
    "\n",
    "  \n",
    "-or-\n",
    "\n",
    "$\\begin{bmatrix} a_1\\ a_2\\ a_3\\ ..\\ a_n\\end{bmatrix}^T$ = $\\begin{bmatrix} a_1\\\\ a_2\\\\ a_3\\\\ ..\\\\ a_n\\end{bmatrix}$\n",
    "\n",
    "Equation form:\n",
    "\n",
    "$\\vec{x}^T = \\vec{y}$\n",
    "\n",
    "-or-\n",
    "\n",
    "$\\vec{y}^T = \\vec{x}$"
   ]
  },
  {
   "cell_type": "markdown",
   "metadata": {},
   "source": [
    "### magnitude and direction ###\n",
    "\n",
    "TEST\n",
    "\n",
    "$x=\\frac{-b\\pm\\sqrt{b^2-4ac}}{2a}$  \n",
    "\n",
    "/TEST\n",
    "\n",
    "Each vector holds the magnitude as well as the direction of the movement.\n",
    "\n",
    "\n",
    "$\\vec{x} = \\begin{bmatrix} 4\\\\ 2\\end{bmatrix}$\n",
    "\n",
    "The symbol we use for the **magnitude** is $|| ||$\n",
    "\n",
    "To calculate the **magnitude** of a *2D* vector we will use the Pythagorean Theorem.\n",
    "\n",
    "In our example the magnitude will be calculated the following way:\n",
    "\n",
    "$||\\vec{x}||$ = $\\sqrt{4^2 + 2^2}$\n",
    "\n",
    "Where 4 is the horizontal component of the vector and 2 is the vertical.\n",
    "\n",
    "To calculate the **direction of the movement** we will use an angle. We can use Degrees or Radians. In this example we will focus on Degree.\n",
    "\n",
    "lets look at the vector $\\vec{x}$ again. It has an angle $\\theta$ (theta) with respect to the horizontal axis.\n",
    "\n",
    "To calculate $\\theta$ we will use what we remember from Trigonometry!\n",
    "\n",
    "In the specific angle illustrated below $\\theta$ is calculated the following way:\n",
    "\n",
    "$\\theta = \\tan^{-1}\\frac{y}{x}$"
   ]
  },
  {
   "cell_type": "markdown",
   "metadata": {},
   "source": [
    "<img src=\"theta.png\" width=300 align=left>"
   ]
  },
  {
   "cell_type": "markdown",
   "metadata": {},
   "source": [
    "Therefore, in our case\n",
    "\n",
    "$\\theta=tan^{-1}\\frac{2}{4}=26.56505^{\\circ}$\n",
    " \n",
    "For further information on magnitude and direction of a 2D vector, please use the following:\n",
    "\n",
    "http://www.softschools.com/math/pre_calculus/direction_angles_of_vectors/"
   ]
  }
 ],
 "metadata": {
  "kernelspec": {
   "display_name": "Python [default]",
   "language": "python",
   "name": "python3"
  },
  "language_info": {
   "codemirror_mode": {
    "name": "ipython",
    "version": 3
   },
   "file_extension": ".py",
   "mimetype": "text/x-python",
   "name": "python",
   "nbconvert_exporter": "python",
   "pygments_lexer": "ipython3",
   "version": "3.6.6"
  }
 },
 "nbformat": 4,
 "nbformat_minor": 2
}
