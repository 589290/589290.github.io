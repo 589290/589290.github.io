{
 "cells": [
  {
   "cell_type": "code",
   "execution_count": 1,
   "metadata": {},
   "outputs": [
    {
     "data": {
      "text/html": [
       "<div align=\"middle\"><video width=\"100%\" controls><source src=\"8d.mp4\" type=\"video/mp4\"></video></div>"
      ],
      "text/plain": [
       "<IPython.core.display.HTML object>"
      ]
     },
     "execution_count": 1,
     "metadata": {},
     "output_type": "execute_result"
    }
   ],
   "source": [
    "from IPython.display import HTML\n",
    "HTML(\"\"\"<div align=\"middle\"><video width=\"100%\" controls><source src=\"8d.mp4\" type=\"video/mp4\"></video></div>\"\"\")"
   ]
  },
  {
   "cell_type": "markdown",
   "metadata": {},
   "source": [
    "# Classifying Fashion-MNIST\n",
    "\n",
    "Now it's your turn to build and train a neural network. You'll be using the [Fashion-MNIST dataset](https://github.com/zalandoresearch/fashion-mnist), a drop-in replacement for the MNIST dataset. MNIST is actually quite trivial with neural networks where you can easily achieve better than 97% accuracy. Fashion-MNIST is a set of 28x28 greyscale images of clothes. It's more complex than MNIST, so it's a better representation of the actual performance of your network, and a better representation of datasets you'll use in the real world.\n",
    "\n",
    "<img src='assets/fashion-mnist-sprite.png' width=500px>\n",
    "\n",
    "In this notebook, you'll build your own neural network. For the most part, you could just copy and paste the code from Part 3, but you wouldn't be learning. It's important for you to write the code yourself and get it to work. Feel free to consult the previous notebook though as you work through this.\n",
    "\n",
    "First off, let's load the dataset through torchvision."
   ]
  },
  {
   "cell_type": "code",
   "execution_count": 1,
   "metadata": {},
   "outputs": [
    {
     "name": "stdout",
     "output_type": "stream",
     "text": [
      "Downloading http://fashion-mnist.s3-website.eu-central-1.amazonaws.com/train-images-idx3-ubyte.gz\n",
      "Downloading http://fashion-mnist.s3-website.eu-central-1.amazonaws.com/train-labels-idx1-ubyte.gz\n",
      "Downloading http://fashion-mnist.s3-website.eu-central-1.amazonaws.com/t10k-images-idx3-ubyte.gz\n",
      "Downloading http://fashion-mnist.s3-website.eu-central-1.amazonaws.com/t10k-labels-idx1-ubyte.gz\n",
      "Processing...\n",
      "Done!\n"
     ]
    }
   ],
   "source": [
    "import torch\n",
    "from torchvision import datasets, transforms\n",
    "import helper\n",
    "\n",
    "# Define a transform to normalize the data\n",
    "transform = transforms.Compose([transforms.ToTensor(),\n",
    "                                transforms.Normalize((0.5, 0.5, 0.5), (0.5, 0.5, 0.5))])\n",
    "# Download and load the training data\n",
    "trainset = datasets.FashionMNIST('F_MNIST_data/', download=True, train=True, transform=transform)\n",
    "trainloader = torch.utils.data.DataLoader(trainset, batch_size=64, shuffle=True)\n",
    "\n",
    "# Download and load the test data\n",
    "testset = datasets.FashionMNIST('F_MNIST_data/', download=True, train=False, transform=transform)\n",
    "testloader = torch.utils.data.DataLoader(testset, batch_size=64, shuffle=True)"
   ]
  },
  {
   "cell_type": "markdown",
   "metadata": {},
   "source": [
    "Here we can see one of the images."
   ]
  },
  {
   "cell_type": "code",
   "execution_count": 2,
   "metadata": {},
   "outputs": [
    {
     "data": {
      "image/png": "[encoded data removed]",
      "text/plain": [
       "<Figure size 432x288 with 1 Axes>"
      ]
     },
     "metadata": {},
     "output_type": "display_data"
    }
   ],
   "source": [
    "image, label = next(iter(trainloader))\n",
    "helper.imshow(image[0,:]);"
   ]
  },
  {
   "cell_type": "markdown",
   "metadata": {},
   "source": [
    "With the data loaded, it's time to import the necessary packages."
   ]
  },
  {
   "cell_type": "code",
   "execution_count": 3,
   "metadata": {},
   "outputs": [],
   "source": [
    "%matplotlib inline\n",
    "%config InlineBackend.figure_format = 'retina'\n",
    "\n",
    "import matplotlib.pyplot as plt\n",
    "import numpy as np\n",
    "import time\n",
    "\n",
    "import torch\n",
    "from torch import nn\n",
    "from torch import optim\n",
    "import torch.nn.functional as F\n",
    "from torchvision import datasets, transforms\n",
    "\n",
    "import helper"
   ]
  },
  {
   "cell_type": "markdown",
   "metadata": {},
   "source": [
    "## Building the network\n",
    "\n",
    "Here you should define your network. As with MNIST, each image is 28x28 which is a total of 784 pixels, and there are 10 classes. You should include at least one hidden layer. We suggest you use ReLU activations for the layers and to return the logits from the forward pass. It's up to you how many layers you add and the size of those layers."
   ]
  },
  {
   "cell_type": "code",
   "execution_count": 6,
   "metadata": {},
   "outputs": [],
   "source": [
    "# TODO: Define your network architecture here\n",
    "from collections import OrderedDict\n",
    "\n",
    "# Hyperparameters for our network\n",
    "input_size = 784\n",
    "hidden_sizes = [256, 64]\n",
    "output_size = 10\n",
    "\n",
    "# Build a feed-forward network\n",
    "model = nn.Sequential(OrderedDict([\n",
    "                      ('fc1', nn.Linear(input_size, hidden_sizes[0])),\n",
    "                      ('relu1', nn.ReLU()),\n",
    "                      ('fc2', nn.Linear(hidden_sizes[0], hidden_sizes[1])),\n",
    "                      ('relu2', nn.ReLU()),\n",
    "                      ('logits', nn.Linear(hidden_sizes[1], output_size))]))"
   ]
  },
  {
   "cell_type": "markdown",
   "metadata": {},
   "source": [
    "# Train the network\n",
    "\n",
    "Now you should create your network and train it. First you'll want to define [the criterion](http://pytorch.org/docs/master/nn.html#loss-functions) ( something like `nn.CrossEntropyLoss`) and [the optimizer](http://pytorch.org/docs/master/optim.html) (typically `optim.SGD` or `optim.Adam`).\n",
    "\n",
    "Then write the training code. Remember the training pass is a fairly straightforward process:\n",
    "\n",
    "* Make a forward pass through the network to get the logits \n",
    "* Use the logits to calculate the loss\n",
    "* Perform a backward pass through the network with `loss.backward()` to calculate the gradients\n",
    "* Take a step with the optimizer to update the weights\n",
    "\n",
    "By adjusting the hyperparameters (hidden units, learning rate, etc), you should be able to get the training loss below 0.4."
   ]
  },
  {
   "cell_type": "code",
   "execution_count": 12,
   "metadata": {},
   "outputs": [
    {
     "name": "stdout",
     "output_type": "stream",
     "text": [
      "Initial weights -  Parameter containing:\n",
      "tensor([[ 0.0152, -0.0179, -0.0247,  ...,  0.0055,  0.0353, -0.0131],\n",
      "        [ 0.0274, -0.0334, -0.0148,  ..., -0.0183, -0.0050,  0.0273],\n",
      "        [-0.0269, -0.0323,  0.0042,  ..., -0.0178,  0.0200,  0.0352],\n",
      "        ...,\n",
      "        [ 0.0256, -0.0314,  0.0155,  ...,  0.0135, -0.0116, -0.0328],\n",
      "        [-0.0197, -0.0191,  0.0243,  ..., -0.0186, -0.0251, -0.0024],\n",
      "        [ 0.0323, -0.0149, -0.0013,  ...,  0.0340,  0.0023, -0.0321]],\n",
      "       requires_grad=True)\n",
      "Gradient - tensor([[ 0.0008,  0.0008,  0.0008,  ...,  0.0006,  0.0007,  0.0008],\n",
      "        [-0.0000, -0.0000, -0.0000,  ...,  0.0000,  0.0002,  0.0000],\n",
      "        [ 0.0022,  0.0022,  0.0022,  ...,  0.0022,  0.0022,  0.0022],\n",
      "        ...,\n",
      "        [ 0.0037,  0.0037,  0.0037,  ...,  0.0037,  0.0037,  0.0037],\n",
      "        [-0.0007, -0.0007, -0.0007,  ..., -0.0007, -0.0007, -0.0007],\n",
      "        [ 0.0010,  0.0010,  0.0010,  ...,  0.0007,  0.0008,  0.0009]])\n",
      "Updated weights -  Parameter containing:\n",
      "tensor([[ 0.0152, -0.0179, -0.0247,  ...,  0.0055,  0.0353, -0.0131],\n",
      "        [ 0.0274, -0.0334, -0.0148,  ..., -0.0183, -0.0050,  0.0273],\n",
      "        [-0.0269, -0.0323,  0.0042,  ..., -0.0178,  0.0200,  0.0352],\n",
      "        ...,\n",
      "        [ 0.0256, -0.0314,  0.0155,  ...,  0.0134, -0.0117, -0.0329],\n",
      "        [-0.0197, -0.0191,  0.0244,  ..., -0.0186, -0.0251, -0.0024],\n",
      "        [ 0.0323, -0.0149, -0.0014,  ...,  0.0340,  0.0023, -0.0321]],\n",
      "       requires_grad=True)\n"
     ]
    }
   ],
   "source": [
    "# TODO: Create the network, define the criterion and optimizer\n",
    "\n",
    "criterion = nn.CrossEntropyLoss()\n",
    "optimizer = optim.SGD(model.parameters(), lr=0.01)\n",
    "## learning rate ^\n",
    "\n",
    "print('Initial weights - ', model.fc1.weight)\n",
    "\n",
    "images, labels = next(iter(trainloader))\n",
    "images.resize_(64, 784)\n",
    "\n",
    "# Clear the gradients, do this because gradients are accumulated\n",
    "optimizer.zero_grad()\n",
    "\n",
    "# Forward pass, then backward pass, then update weights\n",
    "output = model.forward(images)\n",
    "loss = criterion(output, labels)\n",
    "loss.backward()\n",
    "print('Gradient -', model.fc1.weight.grad)\n",
    "optimizer.step()\n",
    "\n",
    "print('Updated weights - ', model.fc1.weight)"
   ]
  },
  {
   "cell_type": "code",
   "execution_count": 13,
   "metadata": {},
   "outputs": [
    {
     "name": "stdout",
     "output_type": "stream",
     "text": [
      "Epoch: 1/5...  Loss: 2.2196\n",
      "Epoch: 1/5...  Loss: 2.1573\n",
      "Epoch: 1/5...  Loss: 2.1057\n",
      "Epoch: 1/5...  Loss: 2.0405\n",
      "Epoch: 1/5...  Loss: 1.9689\n",
      "Epoch: 1/5...  Loss: 1.9029\n",
      "Epoch: 1/5...  Loss: 1.8344\n",
      "Epoch: 1/5...  Loss: 1.7677\n",
      "Epoch: 1/5...  Loss: 1.6851\n",
      "Epoch: 1/5...  Loss: 1.6034\n",
      "Epoch: 1/5...  Loss: 1.5324\n",
      "Epoch: 1/5...  Loss: 1.4727\n",
      "Epoch: 1/5...  Loss: 1.3884\n",
      "Epoch: 1/5...  Loss: 1.3309\n",
      "Epoch: 1/5...  Loss: 1.2693\n",
      "Epoch: 1/5...  Loss: 1.2095\n",
      "Epoch: 1/5...  Loss: 1.1749\n",
      "Epoch: 1/5...  Loss: 1.1229\n",
      "Epoch: 1/5...  Loss: 1.0982\n",
      "Epoch: 1/5...  Loss: 1.0658\n",
      "Epoch: 1/5...  Loss: 1.0394\n",
      "Epoch: 1/5...  Loss: 1.0120\n",
      "Epoch: 1/5...  Loss: 0.9611\n",
      "Epoch: 2/5...  Loss: 0.5243\n",
      "Epoch: 2/5...  Loss: 0.9089\n",
      "Epoch: 2/5...  Loss: 0.9011\n",
      "Epoch: 2/5...  Loss: 0.8915\n",
      "Epoch: 2/5...  Loss: 0.8762\n",
      "Epoch: 2/5...  Loss: 0.8566\n",
      "Epoch: 2/5...  Loss: 0.8479\n",
      "Epoch: 2/5...  Loss: 0.8247\n",
      "Epoch: 2/5...  Loss: 0.8155\n",
      "Epoch: 2/5...  Loss: 0.7948\n",
      "Epoch: 2/5...  Loss: 0.7842\n",
      "Epoch: 2/5...  Loss: 0.7705\n",
      "Epoch: 2/5...  Loss: 0.7671\n",
      "Epoch: 2/5...  Loss: 0.7950\n",
      "Epoch: 2/5...  Loss: 0.7767\n",
      "Epoch: 2/5...  Loss: 0.7571\n",
      "Epoch: 2/5...  Loss: 0.7255\n",
      "Epoch: 2/5...  Loss: 0.7217\n",
      "Epoch: 2/5...  Loss: 0.7350\n",
      "Epoch: 2/5...  Loss: 0.7231\n",
      "Epoch: 2/5...  Loss: 0.6917\n",
      "Epoch: 2/5...  Loss: 0.7042\n",
      "Epoch: 2/5...  Loss: 0.6896\n",
      "Epoch: 3/5...  Loss: 0.0707\n",
      "Epoch: 3/5...  Loss: 0.6794\n",
      "Epoch: 3/5...  Loss: 0.6687\n",
      "Epoch: 3/5...  Loss: 0.6960\n",
      "Epoch: 3/5...  Loss: 0.6677\n",
      "Epoch: 3/5...  Loss: 0.6933\n",
      "Epoch: 3/5...  Loss: 0.7044\n",
      "Epoch: 3/5...  Loss: 0.6996\n",
      "Epoch: 3/5...  Loss: 0.6635\n",
      "Epoch: 3/5...  Loss: 0.6518\n",
      "Epoch: 3/5...  Loss: 0.6634\n",
      "Epoch: 3/5...  Loss: 0.6514\n",
      "Epoch: 3/5...  Loss: 0.6302\n",
      "Epoch: 3/5...  Loss: 0.6401\n",
      "Epoch: 3/5...  Loss: 0.6323\n",
      "Epoch: 3/5...  Loss: 0.6369\n",
      "Epoch: 3/5...  Loss: 0.6381\n",
      "Epoch: 3/5...  Loss: 0.6220\n",
      "Epoch: 3/5...  Loss: 0.6308\n",
      "Epoch: 3/5...  Loss: 0.6679\n",
      "Epoch: 3/5...  Loss: 0.5810\n",
      "Epoch: 3/5...  Loss: 0.6353\n",
      "Epoch: 3/5...  Loss: 0.6213\n",
      "Epoch: 3/5...  Loss: 0.6160\n",
      "Epoch: 4/5...  Loss: 0.3964\n",
      "Epoch: 4/5...  Loss: 0.6244\n",
      "Epoch: 4/5...  Loss: 0.6082\n",
      "Epoch: 4/5...  Loss: 0.6078\n",
      "Epoch: 4/5...  Loss: 0.6196\n",
      "Epoch: 4/5...  Loss: 0.5986\n",
      "Epoch: 4/5...  Loss: 0.6148\n",
      "Epoch: 4/5...  Loss: 0.6102\n",
      "Epoch: 4/5...  Loss: 0.5974\n",
      "Epoch: 4/5...  Loss: 0.5735\n",
      "Epoch: 4/5...  Loss: 0.5692\n",
      "Epoch: 4/5...  Loss: 0.5738\n",
      "Epoch: 4/5...  Loss: 0.5916\n",
      "Epoch: 4/5...  Loss: 0.6024\n",
      "Epoch: 4/5...  Loss: 0.5359\n",
      "Epoch: 4/5...  Loss: 0.5877\n",
      "Epoch: 4/5...  Loss: 0.5807\n",
      "Epoch: 4/5...  Loss: 0.5768\n",
      "Epoch: 4/5...  Loss: 0.5869\n",
      "Epoch: 4/5...  Loss: 0.5930\n",
      "Epoch: 4/5...  Loss: 0.6002\n",
      "Epoch: 4/5...  Loss: 0.5824\n",
      "Epoch: 4/5...  Loss: 0.5681\n",
      "Epoch: 5/5...  Loss: 0.1200\n",
      "Epoch: 5/5...  Loss: 0.5928\n",
      "Epoch: 5/5...  Loss: 0.5397\n",
      "Epoch: 5/5...  Loss: 0.5644\n",
      "Epoch: 5/5...  Loss: 0.5573\n",
      "Epoch: 5/5...  Loss: 0.5569\n",
      "Epoch: 5/5...  Loss: 0.5669\n",
      "Epoch: 5/5...  Loss: 0.5872\n",
      "Epoch: 5/5...  Loss: 0.5329\n",
      "Epoch: 5/5...  Loss: 0.5411\n",
      "Epoch: 5/5...  Loss: 0.5431\n",
      "Epoch: 5/5...  Loss: 0.5584\n",
      "Epoch: 5/5...  Loss: 0.5689\n",
      "Epoch: 5/5...  Loss: 0.5355\n",
      "Epoch: 5/5...  Loss: 0.5631\n",
      "Epoch: 5/5...  Loss: 0.5602\n",
      "Epoch: 5/5...  Loss: 0.5371\n",
      "Epoch: 5/5...  Loss: 0.5387\n",
      "Epoch: 5/5...  Loss: 0.5584\n",
      "Epoch: 5/5...  Loss: 0.5581\n",
      "Epoch: 5/5...  Loss: 0.5255\n",
      "Epoch: 5/5...  Loss: 0.5133\n",
      "Epoch: 5/5...  Loss: 0.5344\n",
      "Epoch: 5/5...  Loss: 0.5613\n"
     ]
    }
   ],
   "source": [
    "# TODO: Train the network here\n",
    "optimizer = optim.SGD(model.parameters(), lr=0.003)\n",
    "\n",
    "epochs = 5\n",
    "print_every = 40\n",
    "steps = 0\n",
    "for e in range(epochs):\n",
    "    running_loss = 0\n",
    "    for images, labels in iter(trainloader):\n",
    "        steps += 1\n",
    "        # Flatten MNIST images into a 784 long vector\n",
    "        images.resize_(images.size()[0], 784)\n",
    "        \n",
    "        optimizer.zero_grad()\n",
    "        \n",
    "        # Forward and backward passes\n",
    "        output = model.forward(images)\n",
    "        loss = criterion(output, labels)\n",
    "        loss.backward()\n",
    "        optimizer.step()\n",
    "        \n",
    "        running_loss += loss.item()\n",
    "        \n",
    "        if steps % print_every == 0:\n",
    "            print(\"Epoch: {}/{}... \".format(e+1, epochs),\n",
    "                  \"Loss: {:.4f}\".format(running_loss/print_every))\n",
    "            \n",
    "            running_loss = 0"
   ]
  },
  {
   "cell_type": "code",
   "execution_count": 35,
   "metadata": {},
   "outputs": [
    {
     "data": {
      "image/png": "[encoded data removed]",
      "text/plain": [
       "<Figure size 432x648 with 2 Axes>"
      ]
     },
     "metadata": {
      "image/png": {
       "height": 204,
       "width": 423
      }
     },
     "output_type": "display_data"
    }
   ],
   "source": [
    "# Test out your network!\n",
    "\n",
    "dataiter = iter(testloader)\n",
    "images, labels = dataiter.next()\n",
    "img = images[0]\n",
    "# Convert 2D image to 1D vector\n",
    "img = img.resize_(1, 784)\n",
    "\n",
    "# TODO: Calculate the class probabilities (softmax) for img\n",
    "# Output of the network are logits, need to take softmax for probabilities\n",
    "# Turn off gradients to speed up this part\n",
    "with torch.no_grad():\n",
    "    logits = model.forward(img)\n",
    "ps = F.softmax(logits, dim=1)\n",
    "\n",
    "# Plot the image and probabilities\n",
    "helper.view_classify(img.resize_(1, 28, 28), ps, version='Fashion')"
   ]
  },
  {
   "cell_type": "markdown",
   "metadata": {},
   "source": [
    "Now that your network is trained, you'll want to save it to disk so you can load it later instead of training it again. Obviously, it's impractical to train a network every time you need one. In practice, you'll train it once, save the model, then reload it for further training or making predictions. In the next part, I'll show you how to save and load trained models."
   ]
  }
 ],
 "metadata": {
  "kernelspec": {
   "display_name": "Python 3",
   "language": "python",
   "name": "python3"
  },
  "language_info": {
   "codemirror_mode": {
    "name": "ipython",
    "version": 3
   },
   "file_extension": ".py",
   "mimetype": "text/x-python",
   "name": "python",
   "nbconvert_exporter": "python",
   "pygments_lexer": "ipython3",
   "version": "3.6.5"
  }
 },
 "nbformat": 4,
 "nbformat_minor": 2
}
