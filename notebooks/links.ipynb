{
 "cells": [
  {
   "cell_type": "markdown",
   "metadata": {},
   "source": [
    "# links #"
   ]
  },
  {
   "cell_type": "markdown",
   "metadata": {},
   "source": [
    "### udacity ###\n",
    "http://alumni.udacity.com"
   ]
  },
  {
   "cell_type": "markdown",
   "metadata": {},
   "source": [
    "### TF ###\n",
    "\n",
    "https://github.com/tensorflow/tfjs-vis\n",
    "\n",
    "https://github.com/tensorflow/tensorboard\n",
    "\n",
    "https://js.tensorflow.org/tutorials/import-keras.html\n",
    "\n",
    "https://hackernoon.com/classifying-images-using-tensorflow-js-keras-58431c4df04\n",
    "\n",
    "https://github.com/tensorflow/tfjs-layers/tree/master/integration_tests/benchmarks\n",
    "\n",
    "https://github.com/tensorflow/tensorflow/tree/master/tensorflow/tools/dockerfiles"
   ]
  },
  {
   "cell_type": "markdown",
   "metadata": {},
   "source": [
    "### TFjs ###\n",
    "\n",
    "https://gogul09.github.io/software/mobile-net-tensorflow-js\n",
    "\n",
    "https://www.tensorflow.org/tutorials/?linkId=54338111\n",
    "\n",
    "https://www.tensorflow.org/guide/keras\n",
    "\n",
    "https://keras.io/getting-started/sequential-model-guide/\n",
    "\n",
    "https://js.tensorflow.org/tutorials/core-concepts.html"
   ]
  },
  {
   "cell_type": "markdown",
   "metadata": {},
   "source": [
    "### keras ###\n",
    "\n",
    "https://www.rocksetta.com/tensorflowjs/beginner-examples/tfjs15-keras.html"
   ]
  },
  {
   "cell_type": "markdown",
   "metadata": {},
   "source": [
    "### google ###\n",
    "\n",
    "http://tools.google.com/seedbank/seeds?keyword=image Seed Bank\n",
    "\n",
    "https://ai.google/education/\n",
    "\n",
    "https://cloud.google.com/automl\n",
    "\n",
    "https://cloud.google.com/vision/automl/docs/beginners-guide#importing"
   ]
  },
  {
   "cell_type": "markdown",
   "metadata": {},
   "source": [
    "### papers ###\n",
    "\n",
    "https://docs.google.com/document/d/1BlCzvRFzSr-08Cz5lD3z1bQv2ZE1hu6sWNshhh43QLA/edit\n"
   ]
  },
  {
   "cell_type": "markdown",
   "metadata": {},
   "source": [
    "### vision ###\n",
    "\n",
    "https://distill.pub/2018/building-blocks/\n",
    "\n",
    "https://medium.com/tensorflow/an-introduction-to-biomedical-image-analysis-with-tensorflow-and-dltk-2c25304e7c13"
   ]
  },
  {
   "cell_type": "markdown",
   "metadata": {},
   "source": [
    "### ceb ###\n",
    "\n",
    "https://app.nuclino.com/CEB"
   ]
  },
  {
   "cell_type": "markdown",
   "metadata": {},
   "source": [
    "### random ###\n",
    "\n",
    "https://nihcc.app.box.com/v/DeepLesion\n",
    "\n",
    "https://cloud.google.com/source-repositories/docs/quickstart\n",
    "\n",
    "https://www.machine2learn.com/deep-learning-model-generator/\n",
    "\n",
    "http://blog.kaggle.com/2018/08/22/machine-learning-kaggle-competition-part-one-getting-started/"
   ]
  },
  {
   "cell_type": "markdown",
   "metadata": {},
   "source": [
    "### paste ###\n",
    "\n",
    "https://developers.google.com/machine-learning/crash-course/prereqs-and-prework\n",
    "\n",
    "https://colab.research.google.com/notebooks/mlcc/tensorflow_programming_concepts.ipynb\n",
    "\n",
    "\n",
    "https://www.tensorflow.org/ecosystem/\n",
    "\n",
    "\n",
    "https://www.tensorflow.org/programmers_guide/summaries_and_tensorboard\n",
    "\n",
    "\n",
    "https://www.hackerrank.com/domains/python\n",
    "\n",
    "https://www.codewars.com/dashboard"
   ]
  }
 ],
 "metadata": {
  "kernelspec": {
   "display_name": "Python 3",
   "language": "python",
   "name": "python3"
  },
  "language_info": {
   "codemirror_mode": {
    "name": "ipython",
    "version": 3
   },
   "file_extension": ".py",
   "mimetype": "text/x-python",
   "name": "python",
   "nbconvert_exporter": "python",
   "pygments_lexer": "ipython3",
   "version": "3.6.5"
  }
 },
 "nbformat": 4,
 "nbformat_minor": 2
}
