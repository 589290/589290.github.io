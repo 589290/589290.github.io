{
 "cells": [
  {
   "cell_type": "markdown",
   "metadata": {},
   "source": [
    "# commands\n",
    "\n",
    "### show queue\n",
    "squeue\n",
    "\n",
    "### cancel a job\n",
    "scancel <jobid>\n",
    "\n",
    "### Display partition info in long format\n",
    "sinfo _al\n",
    "\n",
    "### Display run status for all users\n",
    "sacct --allusers\n",
    "\n",
    "### Display info on running job\n",
    "scontrol show jobid <jobid>\n",
    "\n",
    "### sbatch explicit\n",
    "sbatch _partition=dgx1 _gres=gpu:2 slurmEnv.sh\n",
    "  \n",
    "  \n",
    "# links\n",
    "\n",
    "commands https://www.rc.fas.harvard.edu/resources/documentation/convenient-slurm-commands/\n",
    "\n",
    "NLM slides https://docs.google.com/presentation/d/12Q0NYqsJR5LSJU6CZibimTY_FXqp8XoiHHdzqkXfouA\n",
    "\n",
    "\n",
    "# examples\n",
    "\n",
    "python train.py --cuda --outpath /slurm_storage/<homedir>/projects/SegAN/outputs\n",
    "\n",
    "\n",
    "# issues\n",
    "\n",
    "### pip install TF\n",
    "Installation will fail when this command is run unless this flag is added --ignore-installed  \n",
    "\n",
    "pip install --upgrade https://storage.googleapis.com/tensorflow/linux/gpu/tensorflow_gpu-1.4.1-cp35-cp35m-linux_x86_64.whl  \n",
    "\n",
    "RE: https://stackoverflow.com/questions/42020151/cannot-remove-entries-from-nonexistent-file"
   ]
  }
 ],
 "metadata": {
  "kernelspec": {
   "display_name": "Python 3",
   "language": "python",
   "name": "python3"
  },
  "language_info": {
   "codemirror_mode": {
    "name": "ipython",
    "version": 3
   },
   "file_extension": ".py",
   "mimetype": "text/x-python",
   "name": "python",
   "nbconvert_exporter": "python",
   "pygments_lexer": "ipython3",
   "version": "3.6.5"
  }
 },
 "nbformat": 4,
 "nbformat_minor": 2
}
