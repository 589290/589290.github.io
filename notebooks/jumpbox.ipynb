{
 "cells": [
  {
   "cell_type": "markdown",
   "metadata": {},
   "source": [
    "## jumpbox ##\n",
    "\n",
    "https://github.com/pymumu/jail-shell\n",
    "\n",
    "https://toic.org/blog/2009/reverse-ssh-port-forwarding/"
   ]
  },
  {
   "cell_type": "markdown",
   "metadata": {},
   "source": [
    "-------------\n",
    "\n",
    "ssh -R 2223:localhost:22 prisoner@lo.name\n",
    "^ from inside box (binds to 127.0.0.1)\n",
    "\n",
    "-------------\n",
    "\n",
    "all ssh to bind ports to non-loopback addresses (0.0.0.0) instead of (127.0.0.1)\n",
    "\n",
    "/etc/ssh/sshd_config\n",
    "\n",
    "GatewayPorts clientspecified\n",
    "\n",
    "--------------\n",
    "\n",
    "ssh -R :2223:localhost:22 prisoner@lo.name\n",
    "^ from inside box (binds to ALL ip's!! 0.0.0.0)\n",
    "\n",
    "---------------\n",
    "\n",
    "netstat -ntl\n",
    "^ to check which ip's the connection is bound to\n",
    "\n",
    "----------------\n",
    "\n",
    "**ssh -R [bind_address:]port:host:hostport**\n",
    "\n",
    "----------------\n",
    "\n",
    "cron script: ~/.ssh/out.sh\n",
    "\n",
    "#!/bin/sh\n",
    "COMMAND=\"ssh -N -f -R 31207:localhost:22 prisoner@lo\"\n",
    "pgrep -f -x \"$COMMAND\" > /dev/null 2>&1 || $COMMAND\n",
    "\n",
    "----------------\n",
    "\n",
    "useradd -d /home/priznr -s /bin/bash -m priznr\n",
    "\n",
    "\n",
    "---\n",
    "\n",
    "/etc/hosts.allow\n",
    "/etc/hosts.deny"
   ]
  },
  {
   "cell_type": "code",
   "execution_count": null,
   "metadata": {},
   "outputs": [],
   "source": []
  }
 ],
 "metadata": {
  "kernelspec": {
   "display_name": "Python 3",
   "language": "python",
   "name": "python3"
  },
  "language_info": {
   "codemirror_mode": {
    "name": "ipython",
    "version": 3
   },
   "file_extension": ".py",
   "mimetype": "text/x-python",
   "name": "python",
   "nbconvert_exporter": "python",
   "pygments_lexer": "ipython3",
   "version": "3.6.5"
  }
 },
 "nbformat": 4,
 "nbformat_minor": 2
}
