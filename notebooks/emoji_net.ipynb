{
 "cells": [
  {
   "cell_type": "markdown",
   "metadata": {},
   "source": [
    "0\n",
    "-----------\n",
    "\n",
    "https://dev.username.com/?debug=true\n",
    "\n",
    "https://github.com/G-9999/emoji-scavenger-hunt\n",
    "\n",
    "1\n",
    "------------------\n",
    "\n",
    "https://github.com/tensorflow/tfjs-models/tree/master/mobilenet\n",
    "\n",
    "https://design.google/library/designing-emoji-scavengerhunt/\n",
    "\n",
    "2\n",
    "------------------\n",
    "\n",
    "https://gogul09.github.io/software/mobile-net-tensorflow-js\n",
    "\n",
    "http://jamesthom.as/blog/2018/08/07/machine-learning-in-node-dot-js-with-tensorflow-dot-js/\n",
    "\n",
    "https://beta.observablehq.com/@nsthorat/visualizing-activations-of-mobilenet-with-tensorflow-js\n",
    "\n",
    "https://hpssjellis.github.io/beginner-tensorflowjs-examples-in-javascript/\n",
    "\n",
    "https://hpssjellis.github.io/beginner-tensorflowjs-examples-in-javascript/\n",
    "\n",
    "https://medium.com/@sretks/search-3d-models-by-using-tensorflow-js-and-heymesh-ebc528ae9b7d\n",
    "\n",
    "\n",
    "3\n",
    "------------------\n",
    "\n",
    "https://github.com/HIPS/autograd\n",
    "\n",
    "https://playground.tensorflow.org"
   ]
  }
 ],
 "metadata": {
  "kernelspec": {
   "display_name": "Python [default]",
   "language": "python",
   "name": "python3"
  },
  "language_info": {
   "codemirror_mode": {
    "name": "ipython",
    "version": 3
   },
   "file_extension": ".py",
   "mimetype": "text/x-python",
   "name": "python",
   "nbconvert_exporter": "python",
   "pygments_lexer": "ipython3",
   "version": "3.6.6"
  }
 },
 "nbformat": 4,
 "nbformat_minor": 2
}
