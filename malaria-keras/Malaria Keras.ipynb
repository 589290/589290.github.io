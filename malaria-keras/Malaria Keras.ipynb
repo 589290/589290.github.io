{
 "cells": [
  {
   "cell_type": "markdown",
   "metadata": {},
   "source": [
    "# Malaria Cell Classification with Keras #\n",
    "\n",
    "This notebook is a log of the work performed in training a Keras H5 model based on the publicly available Malaria dataset https://ceb.nlm.nih.gov/repositories/malaria-datasets."
   ]
  },
  {
   "cell_type": "markdown",
   "metadata": {},
   "source": [
    "## Setup Environment ##"
   ]
  },
  {
   "cell_type": "code",
   "execution_count": null,
   "metadata": {},
   "outputs": [],
   "source": [
    "# create new anaconda environment\n",
    "conda create -n env2 python=3.6\n",
    "\n",
    "# enter new environment\n",
    "source activate env2\n",
    "\n",
    "# install necessary packages\n",
    "conda install numpy scipy seaborn matplotlib pandas scikit-learn tensorflow theano keras opencv pillow\n",
    "pip install tensorflowjs"
   ]
  },
  {
   "cell_type": "markdown",
   "metadata": {},
   "source": [
    "## Setup scripts and dataset ##"
   ]
  },
  {
   "cell_type": "markdown",
   "metadata": {},
   "source": [
    "__Create the following directory structure:__  \n",
    "\n",
    "<img src=\"i1.png\" width=250 align=left  style=\"padding-right: 15px;\">\n",
    "\n",
    "The parisitized and uninfected jpeg images are placed in the folders with these respective names. The names of these folders are used as classes.  \n",
    "\n",
    "The the test folder will be empty at first.  \n",
    "\n",
    "### Explanation of files: ###\n",
    "__init-conda.sh__ executes the environment setup as above, optional  \n",
    "\n",
    "__organize.py__ moves around the dataset, optional  \n",
    "\n",
    "__extract_features.py__ Pre-trained models are loaded from the application module of the Keras library and the model is constructed based on the user specified configurations in the __conf.json__ file. Afterwards, features are extracted from the specified layer in the model pre-trained with ImageNet dataset. These features along with their labels are stored locally using HDF5 file format. The model and the weights are saved.  \n",
    "\n",
    "__train.py__ Features and labels that were extracted from the dataset are first loaded. Then, a logistic regression model is created to train these features and labels. This also generates a confusion matrix (normalized and unnormalized) of the trained model on unseen test data splitted using scikit-learn and seaborn.\n",
    "\n",
    "__test.py__ A script that uses the trained model to predict the class of unseen images.\n"
   ]
  },
  {
   "cell_type": "markdown",
   "metadata": {},
   "source": [
    "## Perform feature extraction ##"
   ]
  },
  {
   "cell_type": "code",
   "execution_count": null,
   "metadata": {},
   "outputs": [],
   "source": [
    "$ python extract_features.py\n",
    "Using TensorFlow backend.\n",
    "Downloading data from https://github.com/fchollet/deep-learning-models/releases/download/v0.1/vgg19_weights_tf_dim_ordering_tf_kernels.h5\n",
    "574717952/574710816 [==============================] 100%\n",
    "[INFO] successfully loaded base model and model...\n",
    "[INFO] encoding labels...\n",
    "[INFO] processed - 1\n",
    "[INFO] processed - 2\n",
    "[INFO] processed - 3\n",
    "...\n",
    "[INFO] processed - 9998\n",
    "[INFO] processed - 9999\n",
    "[INFO] processed - 10000\n",
    "[INFO] completed label - parasitized\n",
    "[INFO] processed - 1\n",
    "[INFO] processed - 2\n",
    "[INFO] processed - 3\n",
    "...\n",
    "[INFO] processed - 9998\n",
    "[INFO] processed - 9999\n",
    "[INFO] processed - 10000\n",
    "[INFO] completed label - uninfected\n",
    "[STATUS] training labels shape: (20000,)\n",
    "[STATUS] saved model and weights to disk..\n",
    "[STATUS] features and labels saved.."
   ]
  },
  {
   "cell_type": "markdown",
   "metadata": {},
   "source": [
    "👆 above operation takes about 13-14 hours on my desktop machine (cpu only)"
   ]
  },
  {
   "cell_type": "markdown",
   "metadata": {},
   "source": [
    "## Perform training ##"
   ]
  },
  {
   "cell_type": "code",
   "execution_count": null,
   "metadata": {},
   "outputs": [],
   "source": [
    "$ python train.py \n",
    "[INFO] features shape: (20000, 4096)\n",
    "[INFO] labels shape: (20000,)\n",
    "[INFO] training started...\n",
    "[INFO] splitted train and test data...\n",
    "[INFO] train data  : (20000, 4096)\n",
    "[INFO] test data   : (7558, 4096)\n",
    "[INFO] train labels: (20000,)\n",
    "[INFO] test labels : (7558,)\n",
    "[INFO] creating model...\n",
    "[INFO] evaluating model...\n",
    "[INFO] saving model..."
   ]
  },
  {
   "cell_type": "markdown",
   "metadata": {},
   "source": [
    "Training is much faster, on the order of a few minutes."
   ]
  },
  {
   "cell_type": "markdown",
   "metadata": {},
   "source": [
    "## Perform testing ##"
   ]
  },
  {
   "cell_type": "code",
   "execution_count": null,
   "metadata": {},
   "outputs": [],
   "source": [
    "$ python test.py \n",
    "Using TensorFlow backend.\n",
    "[INFO] loading the classifier...\n",
    "dataset/test/P__C33P1thinF_IMG_20150619_120804a_cell_224.jpg is parasitized\n",
    "dataset/test/P__C33P1thinF_IMG_20150619_120645a_cell_216.jpg is parasitized\n",
    "dataset/test/P__C33P1thinF_IMG_20150619_120645a_cell_217.jpg is parasitized\n",
    "dataset/test/U__C1_thinF_IMG_20150604_104722_cell_216.jpg is uninfected\n",
    "dataset/test/P__C33P1thinF_IMG_20150619_120742a_cell_210.jpg is parasitized\n",
    "...\n",
    "dataset/test/U__C1_thinF_IMG_20150604_104722_cell_211.jpg is uninfected\n",
    "dataset/test/U__C1_thinF_IMG_20150604_104722_cell_164.jpg is uninfected\n",
    "dataset/test/U__C1_thinF_IMG_20150604_104722_cell_231.jpg is uninfected\n",
    "dataset/test/U__C1_thinF_IMG_20150604_104722_cell_191.jpg is uninfected\n",
    "dataset/test/P__C33P1thinF_IMG_20150619_120838a_cell_222.jpg is parasitized"
   ]
  },
  {
   "cell_type": "markdown",
   "metadata": {},
   "source": [
    "A small portion of the images are broken out of the dataset for testing purposes."
   ]
  },
  {
   "cell_type": "markdown",
   "metadata": {},
   "source": [
    "## Confusion Matrices ##\n",
    "\n",
    "We plot confusion matrices (non-normalized and normalizeed) to look for errata.  \n",
    "\n",
    "<img src=\"i3.png\" align=left><img src=\"i4.png\" align=left>"
   ]
  },
  {
   "cell_type": "markdown",
   "metadata": {},
   "source": [
    "## Convert Keras model to Tensorflowjs"
   ]
  },
  {
   "cell_type": "code",
   "execution_count": null,
   "metadata": {},
   "outputs": [],
   "source": [
    "$ tensorflowjs_converter --input_format=keras /x/output/vgg19/model_0.2.h5 /x/output/vgg19-js\n",
    "Using TensorFlow backend."
   ]
  },
  {
   "cell_type": "markdown",
   "metadata": {},
   "source": [
    "Successfully created a Tensorflowjs model from Keras."
   ]
  },
  {
   "cell_type": "markdown",
   "metadata": {},
   "source": [
    "## Deductions ##\n",
    "\n",
    "The trained models appear to be very accurate in validation. This is almost suspicious given the degree of accuracy. Some further investigation may be needed.  \n",
    "\n",
    "90 images from the uninfected dataset appear to be missing in the generated confusion matrices for both the vgg19 and vgg16 models. This also possibly warrants investigation.  \n",
    "\n",
    "All Ops (Operations) supported in a Keras model created in this fashion are exportable to a Tensorflowjs model.  \n",
    "\n",
    "Training could be sped up by placing the job on SLURM or Cloud.  "
   ]
  },
  {
   "cell_type": "markdown",
   "metadata": {},
   "source": [
    "## Achievements ##\n",
    "\n",
    "VGG16 and VGG19 Keras and Tensorflowjs models created on the Malaria dataset.  "
   ]
  },
  {
   "cell_type": "markdown",
   "metadata": {},
   "source": [
    "## Future Work ##\n",
    "\n",
    "Created models for inceptionv3, resnet50, xception, inceptionresnetv2 and mobilenet  \n",
    "\n",
    "Create demployable HTML and Javascript app that demonstrates the inference capabilities of Tensorflowjs. Observe analaytics such as model/shard load time, warm up time, and prediction speeds."
   ]
  }
 ],
 "metadata": {
  "kernelspec": {
   "display_name": "Python 3",
   "language": "python",
   "name": "python3"
  },
  "language_info": {
   "codemirror_mode": {
    "name": "ipython",
    "version": 3
   },
   "file_extension": ".py",
   "mimetype": "text/x-python",
   "name": "python",
   "nbconvert_exporter": "python",
   "pygments_lexer": "ipython3",
   "version": "3.6.5"
  }
 },
 "nbformat": 4,
 "nbformat_minor": 2
}
